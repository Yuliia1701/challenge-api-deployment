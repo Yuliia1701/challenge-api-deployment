{
 "cells": [
  {
   "cell_type": "code",
   "execution_count": null,
   "metadata": {},
   "outputs": [],
   "source": [
    "from fastapi import FastAPI, HTTPException\n",
    "from pydantic import BaseModel\n",
    "#from typing import Optional, Literal\n",
    "#from predict.prediction import predict\n",
    "import uvicorn\n",
    "from uvicorn import run\n",
    "import joblib\n",
    "#from preprocessing.cleaning_data import preprocess\n",
    "import pandas as pd\n",
    "#from sklearn.preprocessing import OneHotEncoder\n",
    "from sklearn.compose import make_column_transformer\n",
    "from typing import Dict, Union\n",
    "from category_encoders import OneHotEncoder"
   ]
  },
  {
   "cell_type": "code",
   "execution_count": null,
   "metadata": {},
   "outputs": [],
   "source": [
    "lr_from_joblib = joblib.load('My_model.pkl')\n",
    "encod = joblib.load('Encoded.pkl')"
   ]
  },
  {
   "cell_type": "code",
   "execution_count": null,
   "metadata": {},
   "outputs": [],
   "source": [
    "class Property(BaseModel):\n",
    "    region: str\n",
    "    property_type: str\n",
    "    habitable_surface: float\n",
    "    number_of_rooms: int\n",
    "    has_terrace: str\n",
    "    has_garden: str\n",
    "    is_furnished: str\n",
    "    has_swimming_pool: str\n",
    "    has_open_fire: str"
   ]
  },
  {
   "cell_type": "code",
   "execution_count": null,
   "metadata": {},
   "outputs": [],
   "source": [
    "app = FastAPI()"
   ]
  },
  {
   "cell_type": "code",
   "execution_count": null,
   "metadata": {},
   "outputs": [],
   "source": [
    "# Route\n",
    "@app.get('/')\n",
    "def get_request():\n",
    "    return 'status alive'"
   ]
  },
  {
   "cell_type": "code",
   "execution_count": null,
   "metadata": {},
   "outputs": [],
   "source": [
    "@app.post('/prediction')\n",
    "def price_prediction(data_input: Property):\n",
    "    try:\n",
    "        # get the input data\n",
    "        data = pd.DataFrame([data_input.dict()])\n",
    "        data = data.replace({'Yes': 1, 'No': 0})\n",
    "        data_encoded = encod.transform(data)\n",
    "       \n",
    "        # my prediction - with my model\n",
    "        prediction = lr_from_joblib.predict(data_encoded)[0]\n",
    "        # dict for the response\n",
    "        response = {'prediction': prediction}\n",
    "\n",
    "        return response\n",
    "  \n",
    "    except KeyError as e:\n",
    "        raise HTTPException(status_code = 500, detail= str(e))"
   ]
  },
  {
   "cell_type": "code",
   "execution_count": null,
   "metadata": {},
   "outputs": [],
   "source": [
    "description =  {\"How to use\": {\n",
    "                        \"region\": \"Brussels or Flanders or Wallonie\",\n",
    "                        \"property_type\": \"HOUSE or APARTEMENT\",\n",
    "                        \"habitable_surface\": \"requared amount of square meter for instance - 95\",\n",
    "                        \"number_of_rooms\": \"requared number of rooms for instance - 3\",\n",
    "                        \"has_terrace\": \"'Yes' or 'No'\", \n",
    "                        \"has_garden\": \"'Yes' or 'No'\",\n",
    "                        \"is_furnished\": \"'Yes' or 'No'\",\n",
    "                        \"has_swimming_pool\": \"'Yes' or 'No'\",\n",
    "                        \"has_open_fire\": \"'Yes' or 'No'\",\n",
    "    }}\n",
    "\n",
    "# Route\n",
    "@app.get('/description')\n",
    "def get_description():\n",
    "    return description"
   ]
  },
  {
   "cell_type": "code",
   "execution_count": null,
   "metadata": {},
   "outputs": [],
   "source": [
    "if __name__ == \"__main__\":\n",
    "    uvicorn.run(app, host=\"127.0.0.1\", port=8000)"
   ]
  }
 ],
 "metadata": {
  "language_info": {
   "name": "python"
  },
  "orig_nbformat": 4
 },
 "nbformat": 4,
 "nbformat_minor": 2
}
