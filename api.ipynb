{
 "cells": [
  {
   "cell_type": "code",
   "execution_count": 20,
   "metadata": {},
   "outputs": [],
   "source": [
    "from fastapi import FastAPI, HTTPException\n",
    "from pydantic import BaseModel\n",
    "from typing import Optional, Literal\n",
    "import joblib\n",
    "import uvicorn\n",
    "import pandas as pd\n",
    "from sklearn.preprocessing import OneHotEncoder\n",
    "from sklearn.compose import make_column_transformer\n"
   ]
  },
  {
   "cell_type": "code",
   "execution_count": 21,
   "metadata": {},
   "outputs": [],
   "source": [
    "lr_from_joblib = joblib.load('My_model.pkl')\n",
    "encod = joblib.load(\"Encoded.pkl\")"
   ]
  },
  {
   "cell_type": "code",
   "execution_count": 22,
   "metadata": {},
   "outputs": [],
   "source": [
    "class Property(BaseModel):\n",
    "    region: str\n",
    "    property_type: str\n",
    "    habitable_surface: float\n",
    "    number_of_rooms: int\n",
    "    has_terrace: str\n",
    "    has_garden: str\n",
    "    is_furnished: str\n",
    "    has_swimming_pool: str\n",
    "    has_open_fire: str\n",
    "    "
   ]
  },
  {
   "cell_type": "code",
   "execution_count": 23,
   "metadata": {},
   "outputs": [],
   "source": [
    "app = FastAPI()"
   ]
  },
  {
   "cell_type": "code",
   "execution_count": 24,
   "metadata": {},
   "outputs": [],
   "source": [
    "# Route\n",
    "@app.get('/')\n",
    "def get_request():\n",
    "    return \"status alive\""
   ]
  },
  {
   "cell_type": "code",
   "execution_count": 25,
   "metadata": {},
   "outputs": [],
   "source": [
    "@app.post(\"/prediction\")\n",
    "def price_prediction(data_input: Property):\n",
    "    try:\n",
    "        # get the input data\n",
    "        data = pd.DataFrame([data_input.dict()])\n",
    "        data = data.replace({\"Yes\": 1, \"No\": 0})\n",
    "        data_encoded = encod.transform(data)\n",
    "\n",
    "       \n",
    "        # my prediction - with my model\n",
    "        prediction = lr_from_joblib.predict(data_encoded)\n",
    "        # dict for the response\n",
    "        response = {'prediction': float(prediction[0])}\n",
    "\n",
    "        return response\n",
    "  \n",
    "    except KeyError as e:\n",
    "        raise HTTPException(status_code = 500, detail= str(e))\n",
    "    "
   ]
  },
  {
   "cell_type": "code",
   "execution_count": null,
   "metadata": {},
   "outputs": [],
   "source": [
    "if __name__ == \"__main__\":\n",
    "    uvicorn.run(app, host=\"127.0.0.1\", port=5000)"
   ]
  }
 ],
 "metadata": {
  "kernelspec": {
   "display_name": "env",
   "language": "python",
   "name": "python3"
  },
  "language_info": {
   "codemirror_mode": {
    "name": "ipython",
    "version": 3
   },
   "file_extension": ".py",
   "mimetype": "text/x-python",
   "name": "python",
   "nbconvert_exporter": "python",
   "pygments_lexer": "ipython3",
   "version": "3.10.6"
  },
  "orig_nbformat": 4
 },
 "nbformat": 4,
 "nbformat_minor": 2
}
